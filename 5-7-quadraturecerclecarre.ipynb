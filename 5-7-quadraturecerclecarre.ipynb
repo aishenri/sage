{
 "cells": [
  {
   "cell_type": "code",
   "execution_count": 1,
   "metadata": {},
   "outputs": [],
   "source": [
    "%display latex"
   ]
  },
  {
   "cell_type": "code",
   "execution_count": 2,
   "metadata": {},
   "outputs": [
    {
     "data": {
      "text/html": [
       "<html><script type=\"math/tex; mode=display\">\\newcommand{\\Bold}[1]{\\mathbf{#1}}\\left(1.14591559026165 \\times 10^{-6}, 8.84194128288307 \\times 10^{-12}\\right)</script></html>"
      ],
      "text/plain": [
       "(1.14591559026165e-6, 8.84194128288307e-12)"
      ]
     },
     "execution_count": 2,
     "metadata": {},
     "output_type": "execute_result"
    }
   ],
   "source": [
    "u=1/n(pi)*360E-8;s=1/(n(pi)*360E+8);u,s"
   ]
  },
  {
   "cell_type": "code",
   "execution_count": 3,
   "metadata": {},
   "outputs": [
    {
     "data": {
      "text/html": [
       "<html><script type=\"math/tex; mode=display\">\\newcommand{\\Bold}[1]{\\mathbf{#1}}314159265</script></html>"
      ],
      "text/plain": [
       "314159265"
      ]
     },
     "execution_count": 3,
     "metadata": {},
     "output_type": "execute_result"
    }
   ],
   "source": [
    "w=1/sqrt(u*s);round(w)"
   ]
  },
  {
   "cell_type": "code",
   "execution_count": 4,
   "metadata": {},
   "outputs": [
    {
     "data": {
      "text/html": [
       "<html><script type=\"math/tex; mode=display\">\\newcommand{\\Bold}[1]{\\mathbf{#1}}50000000</script></html>"
      ],
      "text/plain": [
       "50000000"
      ]
     },
     "execution_count": 4,
     "metadata": {},
     "output_type": "execute_result"
    }
   ],
   "source": [
    "fw=round((w)/(2*n(pi)));fr=fw;fr"
   ]
  },
  {
   "cell_type": "code",
   "execution_count": 5,
   "metadata": {},
   "outputs": [],
   "source": [
    "deg(x)=x*180.0/n(pi);rad(x)=x*n(pi)/180"
   ]
  },
  {
   "cell_type": "code",
   "execution_count": 6,
   "metadata": {},
   "outputs": [
    {
     "data": {
      "text/html": [
       "<html><script type=\"math/tex; mode=display\">\\newcommand{\\Bold}[1]{\\mathbf{#1}}3.14159265358979 \\times 10^{16}</script></html>"
      ],
      "text/plain": [
       "3.14159265358979e16"
      ]
     },
     "execution_count": 6,
     "metadata": {},
     "output_type": "execute_result"
    }
   ],
   "source": [
    "fw*(2*w)"
   ]
  },
  {
   "cell_type": "code",
   "execution_count": 7,
   "metadata": {},
   "outputs": [
    {
     "data": {
      "text/html": [
       "<html><script type=\"math/tex; mode=display\">\\newcommand{\\Bold}[1]{\\mathbf{#1}}3.141592653589793</script></html>"
      ],
      "text/plain": [
       "3.141592653589793"
      ]
     },
     "execution_count": 7,
     "metadata": {},
     "output_type": "execute_result"
    }
   ],
   "source": [
    "n(pi,digits=16)"
   ]
  },
  {
   "cell_type": "markdown",
   "metadata": {},
   "source": [
    "La vitesse angulaire correspond à $c = w$, pour 1 tour, elle correspond à la circonférence du cercle. La fréquence de résonnance est égale au rayon $f_r = r$ et le diamètre est $r2$ = $d=r+r$\n",
    "\n",
    "Cas de la célérité $c=299792458$ (l'erreur des scientifiques c'est d'appeler $c$ une vitesse, c'est une pulsation angulaire, une fréquence propre de pulsation).\n",
    "\n",
    "Une vitesse est une dérivée par exemple $x^2$ (accélération) et $2x$ vitesse, $x=\\frac{d}{t}$, \n",
    "dans le cas de $c$, $x^2=c^2$ et $2c=2x$ vitesse, c est donc la demi vitesse. Il manque $ç$ pour faire la vitesse complète $c + ç =2v $\n",
    "\n",
    "Un carré est en fait une variable positive + une variable négative, car $c^2 $ = $(c+)$ x $ (c-)$, d'où l'erreur des scientifiques lorsqu'ils utilisent $i^2=-1$, c'est une double racine négative $\\sqrt-1$ qui donnent un carré négatif, donc un pseudo carré, une affectation de variable qui n'a rien à voir avec la forme géométrique du carré. Au fil des siècles, la mentalité changeante, ils se permettent n'importe quoi. Racine carrée -1 : rcn= $\\sqrt -1$ ne signifie pas la même chose que racine carrée : rcp=$\\sqrt -1$, le premier est la quadrature du cercle et le second est le carré \n",
    "\n",
    "carré  = 2^2 = 4\n",
    "\n",
    "cercle = $\\pi r^2=4$\n"
   ]
  },
  {
   "cell_type": "code",
   "execution_count": 8,
   "metadata": {},
   "outputs": [
    {
     "data": {
      "text/html": [
       "<html><script type=\"math/tex; mode=display\">\\newcommand{\\Bold}[1]{\\mathbf{#1}}\\left(-1, 1\\right)</script></html>"
      ],
      "text/plain": [
       "(-1, 1)"
      ]
     },
     "execution_count": 8,
     "metadata": {},
     "output_type": "execute_result"
    }
   ],
   "source": [
    "a=1*(-1);b=-1*-1;a,b"
   ]
  },
  {
   "cell_type": "code",
   "execution_count": 9,
   "metadata": {},
   "outputs": [
    {
     "data": {
      "text/html": [
       "<html><script type=\"math/tex; mode=display\">\\newcommand{\\Bold}[1]{\\mathbf{#1}}314159265358979368929166421393408</script></html>"
      ],
      "text/plain": [
       "314159265358979368929166421393408"
      ]
     },
     "execution_count": 9,
     "metadata": {},
     "output_type": "execute_result"
    }
   ],
   "source": [
    "round(fw*(2*w)*1E+16)"
   ]
  },
  {
   "cell_type": "code",
   "execution_count": 10,
   "metadata": {},
   "outputs": [
    {
     "data": {
      "text/html": [
       "<html><script type=\"math/tex; mode=display\">\\newcommand{\\Bold}[1]{\\mathbf{#1}}3.14159265358979323846264338327950</script></html>"
      ],
      "text/plain": [
       "3.14159265358979323846264338327950"
      ]
     },
     "execution_count": 10,
     "metadata": {},
     "output_type": "execute_result"
    }
   ],
   "source": [
    "n(pi,digits=33)"
   ]
  },
  {
   "cell_type": "code",
   "execution_count": 11,
   "metadata": {},
   "outputs": [
    {
     "data": {
      "text/html": [
       "<html><script type=\"math/tex; mode=display\">\\newcommand{\\Bold}[1]{\\mathbf{#1}}282743338823081386953347696188610</script></html>"
      ],
      "text/plain": [
       "282743338823081386953347696188610"
      ]
     },
     "execution_count": 11,
     "metadata": {},
     "output_type": "execute_result"
    }
   ],
   "source": [
    "314159265358979323846264338327950-31415926535897936892916642139340"
   ]
  },
  {
   "cell_type": "code",
   "execution_count": 12,
   "metadata": {},
   "outputs": [
    {
     "data": {
      "text/html": [
       "<html><script type=\"math/tex; mode=display\">\\newcommand{\\Bold}[1]{\\mathbf{#1}}1.0000000000000001435033343089554</script></html>"
      ],
      "text/plain": [
       "1.0000000000000001435033343089554"
      ]
     },
     "execution_count": 12,
     "metadata": {},
     "output_type": "execute_result"
    }
   ],
   "source": [
    "31415926535897936892916642139340/31415926535897932384626433832795.0"
   ]
  },
  {
   "cell_type": "markdown",
   "metadata": {},
   "source": [
    "Si le rapport entre les deux 2 $\\pi$ n'est pas identique, cela nous donne la pondération de $\\pi$, l'erreur est la masse ou reliqua de $\\pi$. Il faut que $\\pi$ s'annule pour donner zéro, c'est à dire la résonnance entre $\\pi+$ et $\\pi-$.\n",
    "\n",
    "On peut dire que $ç=\\pi+$ et $c=\\pi-$, lumière positive (ç) et lumière négative (c = anti-lumière), on en comprend mieux ici la signification philosophique et physique $c =299792458$ et ç=314159265.43 (les 2 décimales sont pour le \"fun\" ! Parce-qu'en réalité c'est 3 sans 4 ! )\n",
    "\n",
    "Dans la 4ième dimension $c$ a été introduite en négative :\n",
    "\n",
    "$ds^2=x^2+y^2+z^2-c^2t^2$, d'où = $i^2=-c^2t^2$\n",
    "\n",
    "€n cinquième dimension, je réintroduis $ç$ en positif \n",
    "\n",
    "$x^5=ictus$\n",
    "\n",
    "$ç=\\frac{1}{\\sqrt us}$\n"
   ]
  },
  {
   "cell_type": "code",
   "execution_count": 13,
   "metadata": {},
   "outputs": [
    {
     "data": {
      "text/html": [
       "<html><script type=\"math/tex; mode=display\">\\newcommand{\\Bold}[1]{\\mathbf{#1}}1.12837916709551</script></html>"
      ],
      "text/plain": [
       "1.12837916709551"
      ]
     },
     "execution_count": 13,
     "metadata": {},
     "output_type": "execute_result"
    }
   ],
   "source": [
    "r=2/sqrt(n(pi));r"
   ]
  },
  {
   "cell_type": "code",
   "execution_count": 14,
   "metadata": {},
   "outputs": [
    {
     "data": {
      "text/html": [
       "<html><script type=\"math/tex; mode=display\">\\newcommand{\\Bold}[1]{\\mathbf{#1}}\\verb|cercle|\\phantom{\\verb!x!}\\verb|=| 4 \\phantom{\\verb!x!}\\verb|carre|\\phantom{\\verb!x!}\\verb|=| 4</script></html>"
      ],
      "text/plain": [
       "'cercle =' 4 ' carre =' 4"
      ]
     },
     "metadata": {},
     "output_type": "display_data"
    }
   ],
   "source": [
    "cercle=n(pi)*(r^2);carre=2*2\n",
    "show(\"cercle =\",round(cercle),\" carre =\",carre)"
   ]
  },
  {
   "cell_type": "code",
   "execution_count": 23,
   "metadata": {},
   "outputs": [
    {
     "data": {
      "image/png": "[encoded data removed]",
      "text/plain": [
       "Graphics Array of size 1 x 3"
      ]
     },
     "metadata": {},
     "output_type": "display_data"
    }
   ],
   "source": [
    "p3=plot(circle((0,0),r,color=\"red\",fill=True,alpha=0.2,)+\\\n",
    "polygon(((-1,1),(1,1),(1,-1),(-1,-1)),color=\"blue\",alpha=0.2,\n",
    "        thickness=1,frame=True,axes=True));\n",
    "p2= circle((0,0),r,color=\"red\",\n",
    "        fill=True,alpha=0.2,fontsize=6)  \n",
    "p1=polygon(((-1,1),(1,1),(1,-1),(-1,-1)),color=\"blue\",alpha=0.2,\n",
    "        thickness=1,frame=True,axes=True);\n",
    "g = graphics_array([p1,p2,p3]);\n",
    "g.show(frame=False,figsize=10,gridlines=\"minor\",gridlinesstyle=dict(color=\"cyan\",\n",
    "linestyle=\"-\",alpha=0.7))"
   ]
  },
  {
   "cell_type": "code",
   "execution_count": null,
   "metadata": {},
   "outputs": [],
   "source": []
  }
 ],
 "metadata": {
  "kernelspec": {
   "display_name": "SageMath 8.2",
   "language": "",
   "name": "sagemath"
  },
  "language_info": {
   "codemirror_mode": {
    "name": "ipython",
    "version": 2
   },
   "file_extension": ".py",
   "mimetype": "text/x-python",
   "name": "python",
   "nbconvert_exporter": "python",
   "pygments_lexer": "ipython2",
   "version": "2.7.14"
  }
 },
 "nbformat": 4,
 "nbformat_minor": 2
}
