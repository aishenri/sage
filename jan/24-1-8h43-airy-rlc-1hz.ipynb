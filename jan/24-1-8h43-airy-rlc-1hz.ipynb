{
 "cells": [
  {
   "cell_type": "code",
   "execution_count": 4,
   "metadata": {},
   "outputs": [
    {
     "data": {
      "image/png": "[encoded data removed]",
      "text/plain": [
       "Graphics object consisting of 2 graphics primitives"
      ]
     },
     "metadata": {},
     "output_type": "display_data"
    }
   ],
   "source": [
    "var(\"omega\");R=30;L=1/n(pi)*360;C=(1/(n(pi)*360)*4);w=1/(sqrt(L*C));\n",
    "p=plot(abs(1/(1+i*omega*R*C-omega*omega*L*C)),[omega,0,2*w],\n",
    "color=\"darkgreen\");f=round(w,2);lbl = text(\"$w_r = %.0f rad/s$\" % f,\n",
    "(12,4),rgbcolor=\"darkgreen\",horizontal_alignment=\"left\",fontsize=10,\n",
    "bounding_box={'boxstyle':'round','fc':'w'})\n",
    "show(p+lbl,figsize=3,frame=True,axes=False,gridlines=\"minor\",\n",
    "fontsize=6,gridlinesstyle=dict(color=\"lightsalmon\",linestyle=\"-\",\n",
    "alpha=0.4,linewidth=\"0.5\"))"
   ]
  },
  {
   "cell_type": "code",
   "execution_count": null,
   "metadata": {},
   "outputs": [],
   "source": [
    "var(\"omega\");R=30;L=1/n(pi)*360;C=(1/(n(pi)*360)*4)\n",
    "p=plot(abs(1/(1+i*omega*R*C-omega*omega*L*C)),[omega,-pi,pi],\n",
    "color=\"darkgreen\");lbl = text( \"$w_r = %.0f rad/s$\"% f,(-1,3),\n",
    "rgbcolor=\"darkgreen\",horizontal_alignment=\"left\",fontsize=10,\n",
    "bounding_box={'boxstyle':'round','fc':'w'})\n",
    "show(p+lbl,figsize=3,frame=True,axes=False,gridlines=\"minor\",\n",
    "fontsize=6,gridlinesstyle=dict(color=\"lightsalmon\",\n",
    "linestyle=\"-\",alpha=0.4,linewidth=\"0.5\"))"
   ]
  },
  {
   "cell_type": "code",
   "execution_count": null,
   "metadata": {},
   "outputs": [],
   "source": [
    "R=0.1;L=1/n(pi);C=(1/(n(pi)*4));w=1/(sqrt(L*C));fr=1/(2*pi*sqrt(L*C))\n",
    "q=plot(abs(1/(1+i*2*pi*omega*R*C-omega*2*pi*omega*2*pi*L*C)),\n",
    "[omega,-2*fr,2*fr],color=\"darkorange\");lbl = text(\"$f_r = %.0f Hz$\" %\\\n",
    "(fr),(-0.4,10),rgbcolor=\"darkgreen\",horizontal_alignment=\"left\",\n",
    "fontsize=10,bounding_box={'boxstyle':'round','fc':'w'})\n",
    "show(q+lbl,figsize=3,frame=True,axes=False,gridlines=\"minor\",\n",
    "fontsize=6,gridlinesstyle=dict(color=\"lightgreen\",\n",
    "linestyle=\"-\",alpha=0.4,linewidth=\"0.5\"))"
   ]
  },
  {
   "cell_type": "code",
   "execution_count": null,
   "metadata": {},
   "outputs": [],
   "source": [
    "R=1;L=1;C=1/100;w=round(1/(sqrt(L*C)),2);\n",
    "p=plot(abs(1/(1+i*omega*R*C-omega*omega*L*C)),\n",
    "[omega,-2*w,2*w],color=\"darkgreen\");f=round(w,2);r=R;c=C;l=L\n",
    "lbl = text(\"$w_r = %.0f rad/s$\" % f,(-7,8),\n",
    "rgbcolor=\"darkgreen\",horizontal_alignment=\"left\",fontsize=10,\n",
    "bounding_box={'boxstyle':'round','fc':'w'})\n",
    "show(p+lbl,figsize=3,frame=True,axes=False,gridlines=\"minor\",\n",
    "fontsize=6,gridlinesstyle=dict(color=\"lightsalmon\",\n",
    "linestyle=\"-\",alpha=0.4,linewidth=\"0.5\"))"
   ]
  },
  {
   "cell_type": "code",
   "execution_count": null,
   "metadata": {},
   "outputs": [],
   "source": []
  },
  {
   "cell_type": "code",
   "execution_count": null,
   "metadata": {},
   "outputs": [],
   "source": []
  }
 ],
 "metadata": {
  "kernelspec": {
   "display_name": "SageMath 9.2",
   "language": "sage",
   "name": "sagemath"
  },
  "language_info": {
   "codemirror_mode": {
    "name": "ipython",
    "version": 3
   },
   "file_extension": ".py",
   "mimetype": "text/x-python",
   "name": "python",
   "nbconvert_exporter": "python",
   "pygments_lexer": "ipython3",
   "version": "3.7.7"
  }
 },
 "nbformat": 4,
 "nbformat_minor": 2
}
