{
 "cells": [
  {
   "cell_type": "markdown",
   "metadata": {},
   "source": [
    "La terminologie de masse de Newton est différente de celle d'Einstein. Newton c'est une masse pesante : 1 Coulomb égale 900000 T, E=mc² égale m=impédance résistance !\n",
    "\n",
    "On peut traduire la masse/impédance en Peta T =15.0000000000000000 =15000000000000000 kg, pour c²"
   ]
  },
  {
   "cell_type": "code",
   "execution_count": null,
   "metadata": {},
   "outputs": [],
   "source": []
  }
 ],
 "metadata": {
  "kernelspec": {
   "display_name": "SageMath 9.2",
   "language": "sage",
   "name": "sagemath"
  },
  "language_info": {
   "codemirror_mode": {
    "name": "ipython",
    "version": 3
   },
   "file_extension": ".py",
   "mimetype": "text/x-python",
   "name": "python",
   "nbconvert_exporter": "python",
   "pygments_lexer": "ipython3",
   "version": "3.7.7"
  }
 },
 "nbformat": 4,
 "nbformat_minor": 4
}
