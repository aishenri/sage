{
 "cells": [
  {
   "cell_type": "markdown",
   "metadata": {},
   "source": [
    "Un cercle fermé fait 360°, donc 1 degré égale un Ohm. On peut calculer l'énergie, parcourue dans 360 ohms : R=U/I, donc un espace vide de 360°, aura une vitesse plus grande que celui parcouru de 377°, actuellement la valeur de l'impédance du vide.\n",
    "L'éther est donc l'impédance du vide !\n",
    "\n",
    "L'éther =360° (ou 376.72 espace dans lequel la lumière se déplace à c=299792458, espace scientifique), la célérité est ainsi l'inverse de l'impédance, une conductance.\n",
    "\n",
    "Pour simplifier les calculs, dorénavant j'utiliserais mes propres constantes, beaucoup plus simples et canoniques.\n",
    "\n",
    "é=éther=360°, impédance rapport entre inductance/capacitance égale Z"
   ]
  },
  {
   "cell_type": "code",
   "execution_count": 1,
   "metadata": {},
   "outputs": [
    {
     "data": {
      "text/plain": [
       "3.14159265358979e8"
      ]
     },
     "execution_count": 1,
     "metadata": {},
     "output_type": "execute_result"
    }
   ],
   "source": [
    "L=1/n(pi)*360E-8;C=1/(n(pi)*360E+8)\n",
    "ç=1/sqrt(L*C);ç"
   ]
  },
  {
   "cell_type": "code",
   "execution_count": 8,
   "metadata": {},
   "outputs": [
    {
     "data": {
      "text/plain": [
       "299.792458025667"
      ]
     },
     "execution_count": 8,
     "metadata": {},
     "output_type": "execute_result"
    }
   ],
   "source": [
    "cr=n(pi)/6;r=sqrt(2.0) # coudée royale\n",
    "cc=439.995154 #base 440\n",
    "lg=cr*r*n(pi)*439.995154;lg # cercle circonscrit en MHz\n",
    "pg=cr*cc*n(pi);c=lg-pg;c"
   ]
  },
  {
   "cell_type": "code",
   "execution_count": 11,
   "metadata": {},
   "outputs": [
    {
     "data": {
      "text/html": [
       "<html><script type=\"math/tex; mode=display\">\\newcommand{\\Bold}[1]{\\mathbf{#1}}\\large \\mu=L=\\frac{1}{\\pi a}= 1.14591559026165 \\times 10^{-6}</script></html>"
      ],
      "text/latex": [
       "\\begin{math}\n",
       "\\newcommand{\\Bold}[1]{\\mathbf{#1}}\\large \\mu=L=\\frac{1}{\\pi a}= 1.14591559026165 \\times 10^{-6}\n",
       "\\end{math}"
      ],
      "text/plain": [
       "\\large \\mu=L=\\frac{1}{\\pi a}= 1.14591559026165e-6"
      ]
     },
     "metadata": {},
     "output_type": "display_data"
    },
    {
     "data": {
      "text/html": [
       "<html><script type=\"math/tex; mode=display\">\\newcommand{\\Bold}[1]{\\mathbf{#1}}\\large \\epsilon=C=\\frac{1}{\\pi b}= 8.84194128288307 \\times 10^{-12}</script></html>"
      ],
      "text/latex": [
       "\\begin{math}\n",
       "\\newcommand{\\Bold}[1]{\\mathbf{#1}}\\large \\epsilon=C=\\frac{1}{\\pi b}= 8.84194128288307 \\times 10^{-12}\n",
       "\\end{math}"
      ],
      "text/plain": [
       "\\large \\epsilon=C=\\frac{1}{\\pi b}= 8.84194128288307e-12"
      ]
     },
     "metadata": {},
     "output_type": "display_data"
    },
    {
     "data": {
      "text/html": [
       "<html><script type=\"math/tex; mode=display\">\\newcommand{\\Bold}[1]{\\mathbf{#1}}\\large ç=\\frac{1}{\\sqrt L C}= 3.14159265358979 \\times 10^{8}</script></html>"
      ],
      "text/latex": [
       "\\begin{math}\n",
       "\\newcommand{\\Bold}[1]{\\mathbf{#1}}\\large ç=\\frac{1}{\\sqrt L C}= 3.14159265358979 \\times 10^{8}\n",
       "\\end{math}"
      ],
      "text/plain": [
       "\\large ç=\\frac{1}{\\sqrt L C}= 3.14159265358979e8"
      ]
     },
     "metadata": {},
     "output_type": "display_data"
    },
    {
     "data": {
      "text/html": [
       "<html><script type=\"math/tex; mode=display\">\\newcommand{\\Bold}[1]{\\mathbf{#1}}\\large c=\\frac{1}{\\sqrt \\mu \\epsilon}=299792458</script></html>"
      ],
      "text/latex": [
       "\\begin{math}\n",
       "\\newcommand{\\Bold}[1]{\\mathbf{#1}}\\large c=\\frac{1}{\\sqrt \\mu \\epsilon}=299792458\n",
       "\\end{math}"
      ],
      "text/plain": [
       "\\large c=\\frac{1}{\\sqrt \\mu \\epsilon}=299792458"
      ]
     },
     "metadata": {},
     "output_type": "display_data"
    }
   ],
   "source": [
    "\n",
    "a=360E-8;b=360E+8;L=1/n(pi)*a;C=1/(n(pi)*b);ç=1/sqrt(L*C)\n",
    "show(LatexExpr(r\"\\large \\mu=L=\\frac{1}{\\pi a}=\"),L)\n",
    "show(LatexExpr(r\"\\large \\epsilon=C=\\frac{1}{\\pi b}=\"),C)\n",
    "show(LatexExpr(r\"\\large ç=\\frac{1}{\\sqrt L C}=\"),ç)\n",
    "show(LatexExpr(r\"\\large c=\\frac{1}{\\sqrt \\mu \\epsilon}=299792458\"))"
   ]
  },
  {
   "cell_type": "code",
   "execution_count": null,
   "metadata": {},
   "outputs": [],
   "source": []
  }
 ],
 "metadata": {
  "kernelspec": {
   "display_name": "SageMath 9.2",
   "language": "sage",
   "name": "sagemath"
  },
  "language_info": {
   "codemirror_mode": {
    "name": "ipython",
    "version": 3
   },
   "file_extension": ".py",
   "mimetype": "text/x-python",
   "name": "python",
   "nbconvert_exporter": "python",
   "pygments_lexer": "ipython3",
   "version": "3.7.7"
  }
 },
 "nbformat": 4,
 "nbformat_minor": 4
}
